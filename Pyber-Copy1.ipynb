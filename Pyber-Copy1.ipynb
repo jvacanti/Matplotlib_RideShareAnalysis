{
 "cells": [
  {
   "cell_type": "markdown",
   "metadata": {},
   "source": [
    "### Analysis\n",
    "#### - Urban areas have a higher ride volume the suburban and rural areas but the avg fare is much lower.\n",
    "#### - Urban areas had more rides, drivers and fares than suburban and rural areas. Hypothesis is that this is due to higher demand from larger populations. Suggest doing a correlation analysis with population to confirm.\n",
    "#### - Urban areas had a large variance in number of drivers. Suggest further analysis on urban cities with lower than average driver count to determine if additional drivers would increase ride volume and/or average fare."
   ]
  },
  {
   "cell_type": "code",
   "execution_count": 2,
   "metadata": {
    "collapsed": true
   },
   "outputs": [],
   "source": [
    "import matplotlib.pyplot as plt\n",
    "import pandas as pd\n",
    "import numpy as np\n",
    "import os\n",
    "import seaborn as sns\n"
   ]
  },
  {
   "cell_type": "code",
   "execution_count": 3,
   "metadata": {
    "collapsed": true
   },
   "outputs": [],
   "source": [
    "# read in files and create df\n",
    "ride_data = os.path.join(\"raw_data\", \"ride_data.csv\")\n",
    "city_data = os.path.join(\"raw_data\", \"city_data.csv\")\n",
    "\n",
    "ride_data_df = pd.read_csv(ride_data)\n",
    "city_data_df = pd.read_csv(city_data)"
   ]
  },
  {
   "cell_type": "code",
   "execution_count": 4,
   "metadata": {
    "collapsed": true
   },
   "outputs": [],
   "source": [
    "city_index_df = city_data_df.set_index('city')\n",
    "#city_index_df"
   ]
  },
  {
   "cell_type": "code",
   "execution_count": 5,
   "metadata": {},
   "outputs": [
    {
     "data": {
      "text/html": [
       "<div>\n",
       "<style scoped>\n",
       "    .dataframe tbody tr th:only-of-type {\n",
       "        vertical-align: middle;\n",
       "    }\n",
       "\n",
       "    .dataframe tbody tr th {\n",
       "        vertical-align: top;\n",
       "    }\n",
       "\n",
       "    .dataframe thead th {\n",
       "        text-align: right;\n",
       "    }\n",
       "</style>\n",
       "<table border=\"1\" class=\"dataframe\">\n",
       "  <thead>\n",
       "    <tr style=\"text-align: right;\">\n",
       "      <th></th>\n",
       "      <th>city</th>\n",
       "      <th>date</th>\n",
       "      <th>fare</th>\n",
       "      <th>ride_id</th>\n",
       "      <th>driver_count</th>\n",
       "      <th>type</th>\n",
       "    </tr>\n",
       "  </thead>\n",
       "  <tbody>\n",
       "    <tr>\n",
       "      <th>0</th>\n",
       "      <td>Sarabury</td>\n",
       "      <td>2016-01-16 13:49:27</td>\n",
       "      <td>38.35</td>\n",
       "      <td>5403689035038</td>\n",
       "      <td>46</td>\n",
       "      <td>Urban</td>\n",
       "    </tr>\n",
       "    <tr>\n",
       "      <th>1</th>\n",
       "      <td>Sarabury</td>\n",
       "      <td>2016-07-23 07:42:44</td>\n",
       "      <td>21.76</td>\n",
       "      <td>7546681945283</td>\n",
       "      <td>46</td>\n",
       "      <td>Urban</td>\n",
       "    </tr>\n",
       "    <tr>\n",
       "      <th>2</th>\n",
       "      <td>Sarabury</td>\n",
       "      <td>2016-04-02 04:32:25</td>\n",
       "      <td>38.03</td>\n",
       "      <td>4932495851866</td>\n",
       "      <td>46</td>\n",
       "      <td>Urban</td>\n",
       "    </tr>\n",
       "    <tr>\n",
       "      <th>3</th>\n",
       "      <td>Sarabury</td>\n",
       "      <td>2016-06-23 05:03:41</td>\n",
       "      <td>26.82</td>\n",
       "      <td>6711035373406</td>\n",
       "      <td>46</td>\n",
       "      <td>Urban</td>\n",
       "    </tr>\n",
       "    <tr>\n",
       "      <th>4</th>\n",
       "      <td>Sarabury</td>\n",
       "      <td>2016-09-30 12:48:34</td>\n",
       "      <td>30.30</td>\n",
       "      <td>6388737278232</td>\n",
       "      <td>46</td>\n",
       "      <td>Urban</td>\n",
       "    </tr>\n",
       "  </tbody>\n",
       "</table>\n",
       "</div>"
      ],
      "text/plain": [
       "       city                 date   fare        ride_id  driver_count   type\n",
       "0  Sarabury  2016-01-16 13:49:27  38.35  5403689035038            46  Urban\n",
       "1  Sarabury  2016-07-23 07:42:44  21.76  7546681945283            46  Urban\n",
       "2  Sarabury  2016-04-02 04:32:25  38.03  4932495851866            46  Urban\n",
       "3  Sarabury  2016-06-23 05:03:41  26.82  6711035373406            46  Urban\n",
       "4  Sarabury  2016-09-30 12:48:34  30.30  6388737278232            46  Urban"
      ]
     },
     "execution_count": 5,
     "metadata": {},
     "output_type": "execute_result"
    }
   ],
   "source": [
    "# Merge the two datasets on \"City\" \n",
    "combined_data_df = pd.merge(ride_data_df, city_data_df, on='city', how='inner')\n",
    "combined_final = pd.DataFrame(combined_data_df)\n",
    "combined_final.head()"
   ]
  },
  {
   "cell_type": "code",
   "execution_count": 8,
   "metadata": {},
   "outputs": [],
   "source": [
    "urban = combined_final[combined_final[\"type\"] == \"Urban\"]\n",
    "suburban = combined_final[combined_final[\"type\"] == \"Suburban\"]\n",
    "rural = combined_final[combined_final[\"type\"] == \"Rural\"]\n"
   ]
  },
  {
   "cell_type": "code",
   "execution_count": 10,
   "metadata": {},
   "outputs": [],
   "source": [
    "urban_ride_count = urban.groupby([\"city\"]).count()[\"ride_id\"]\n",
    "suburban_ride_count = suburban.groupby([\"city\"]).count()[\"ride_id\"]\n",
    "rural_ride_count = rural.groupby([\"city\"]).count()[\"ride_id\"]"
   ]
  },
  {
   "cell_type": "code",
   "execution_count": 12,
   "metadata": {},
   "outputs": [],
   "source": [
    "urban_fare = urban.groupby([\"city\"]).mean()[\"fare\"]\n",
    "suburban_fare = suburban.groupby([\"city\"]).mean()[\"fare\"]\n",
    "rural_fare = rural.groupby([\"city\"]).mean()[\"fare\"]"
   ]
  },
  {
   "cell_type": "code",
   "execution_count": 13,
   "metadata": {
    "collapsed": true
   },
   "outputs": [],
   "source": [
    "urban_driver_count = urban.groupby([\"city\"]).mean()[\"driver_count\"]\n",
    "suburban_driver_count = suburban.groupby([\"city\"]).mean()[\"driver_count\"]\n",
    "rural_driver_count = rural.groupby([\"city\"]).mean()[\"driver_count\"]"
   ]
  },
  {
   "cell_type": "code",
   "execution_count": 19,
   "metadata": {},
   "outputs": [
    {
     "data": {
      "image/png": "[encoded data removed]",
      "text/plain": [
       "<matplotlib.figure.Figure at 0x1a1ccbf278>"
      ]
     },
     "metadata": {},
     "output_type": "display_data"
    }
   ],
   "source": [
    "plt.scatter(urban_ride_count, urban_fare, s=urban_driver_count, c=\"coral\", edgecolor=\"black\", marker=\"o\", alpha=.75, label=\"Urban\")\n",
    "plt.scatter(suburban_ride_count, suburban_fare, s=suburban_driver_count, c=\"skyblue\", edgecolor=\"black\", marker=\"o\", alpha=.75, label=\"SubUrban\")\n",
    "plt.scatter(rural_ride_count, rural_fare, s=rural_driver_count, c=\"gold\", edgecolor=\"black\", marker=\"o\", alpha=.75, label=\"Rural\")\n",
    "\n",
    "plt.xlim(0,40)\n",
    "plt.ylim(15,40)\n",
    "plt.legend()\n",
    "plt.grid(True)\n",
    "plt.show()"
   ]
  },
  {
   "cell_type": "code",
   "execution_count": 26,
   "metadata": {},
   "outputs": [
    {
     "data": {
      "image/png": "[encoded data removed]",
      "text/plain": [
       "<matplotlib.figure.Figure at 0x1a1cd4ec88>"
      ]
     },
     "metadata": {},
     "output_type": "display_data"
    }
   ],
   "source": [
    "percent = 100*combined_final.groupby([\"type\"]).sum()[\"fare\"]/combined_final[\"fare\"].sum()\n",
    "\n",
    "plt.pie(percent,\n",
    "       labels=[\"Rural\",\"Suburban\", \"Urban\"],\n",
    "       colors=[\"gold\", \"skyblue\", \"coral\"],\n",
    "       explode=[0,0,.1],\n",
    "       autopct=\"%1.1f%%\",\n",
    "       shadow=True)\n",
    "\n",
    "plt.show()"
   ]
  },
  {
   "cell_type": "code",
   "execution_count": 151,
   "metadata": {
    "collapsed": true
   },
   "outputs": [],
   "source": [
    "def type_int(type_val):\n",
    "    if type_val=='Urban':\n",
    "        return 1\n",
    "    elif type_val==\"Suburban\":\n",
    "        return 2\n",
    "    else:\n",
    "        return 3\n",
    "\n",
    "combined_data_df['type_int'] = combined_data_df['type'].apply(type_int)\n",
    "#combined_data_df"
   ]
  },
  {
   "cell_type": "code",
   "execution_count": 152,
   "metadata": {},
   "outputs": [
    {
     "data": {
      "text/html": [
       "<div>\n",
       "<style scoped>\n",
       "    .dataframe tbody tr th:only-of-type {\n",
       "        vertical-align: middle;\n",
       "    }\n",
       "\n",
       "    .dataframe tbody tr th {\n",
       "        vertical-align: top;\n",
       "    }\n",
       "\n",
       "    .dataframe thead th {\n",
       "        text-align: right;\n",
       "    }\n",
       "</style>\n",
       "<table border=\"1\" class=\"dataframe\">\n",
       "  <thead>\n",
       "    <tr style=\"text-align: right;\">\n",
       "      <th></th>\n",
       "      <th>city</th>\n",
       "      <th>date</th>\n",
       "      <th>fare</th>\n",
       "      <th>driver_count</th>\n",
       "      <th>type</th>\n",
       "      <th>type_int</th>\n",
       "    </tr>\n",
       "    <tr>\n",
       "      <th>ride_id</th>\n",
       "      <th></th>\n",
       "      <th></th>\n",
       "      <th></th>\n",
       "      <th></th>\n",
       "      <th></th>\n",
       "      <th></th>\n",
       "    </tr>\n",
       "  </thead>\n",
       "  <tbody>\n",
       "    <tr>\n",
       "      <th>5403689035038</th>\n",
       "      <td>Sarabury</td>\n",
       "      <td>2016-01-16 13:49:27</td>\n",
       "      <td>38.35</td>\n",
       "      <td>46</td>\n",
       "      <td>Urban</td>\n",
       "      <td>1</td>\n",
       "    </tr>\n",
       "    <tr>\n",
       "      <th>7546681945283</th>\n",
       "      <td>Sarabury</td>\n",
       "      <td>2016-07-23 07:42:44</td>\n",
       "      <td>21.76</td>\n",
       "      <td>46</td>\n",
       "      <td>Urban</td>\n",
       "      <td>1</td>\n",
       "    </tr>\n",
       "    <tr>\n",
       "      <th>4932495851866</th>\n",
       "      <td>Sarabury</td>\n",
       "      <td>2016-04-02 04:32:25</td>\n",
       "      <td>38.03</td>\n",
       "      <td>46</td>\n",
       "      <td>Urban</td>\n",
       "      <td>1</td>\n",
       "    </tr>\n",
       "    <tr>\n",
       "      <th>6711035373406</th>\n",
       "      <td>Sarabury</td>\n",
       "      <td>2016-06-23 05:03:41</td>\n",
       "      <td>26.82</td>\n",
       "      <td>46</td>\n",
       "      <td>Urban</td>\n",
       "      <td>1</td>\n",
       "    </tr>\n",
       "    <tr>\n",
       "      <th>6388737278232</th>\n",
       "      <td>Sarabury</td>\n",
       "      <td>2016-09-30 12:48:34</td>\n",
       "      <td>30.30</td>\n",
       "      <td>46</td>\n",
       "      <td>Urban</td>\n",
       "      <td>1</td>\n",
       "    </tr>\n",
       "  </tbody>\n",
       "</table>\n",
       "</div>"
      ],
      "text/plain": [
       "                   city                 date   fare  driver_count   type  \\\n",
       "ride_id                                                                    \n",
       "5403689035038  Sarabury  2016-01-16 13:49:27  38.35            46  Urban   \n",
       "7546681945283  Sarabury  2016-07-23 07:42:44  21.76            46  Urban   \n",
       "4932495851866  Sarabury  2016-04-02 04:32:25  38.03            46  Urban   \n",
       "6711035373406  Sarabury  2016-06-23 05:03:41  26.82            46  Urban   \n",
       "6388737278232  Sarabury  2016-09-30 12:48:34  30.30            46  Urban   \n",
       "\n",
       "               type_int  \n",
       "ride_id                  \n",
       "5403689035038         1  \n",
       "7546681945283         1  \n",
       "4932495851866         1  \n",
       "6711035373406         1  \n",
       "6388737278232         1  "
      ]
     },
     "execution_count": 152,
     "metadata": {},
     "output_type": "execute_result"
    }
   ],
   "source": [
    "ride_data = combined_data_df.set_index('ride_id')\n",
    "ride_data.head()"
   ]
  },
  {
   "cell_type": "code",
   "execution_count": 153,
   "metadata": {},
   "outputs": [
    {
     "data": {
      "text/html": [
       "<div>\n",
       "<style scoped>\n",
       "    .dataframe tbody tr th:only-of-type {\n",
       "        vertical-align: middle;\n",
       "    }\n",
       "\n",
       "    .dataframe tbody tr th {\n",
       "        vertical-align: top;\n",
       "    }\n",
       "\n",
       "    .dataframe thead th {\n",
       "        text-align: right;\n",
       "    }\n",
       "</style>\n",
       "<table border=\"1\" class=\"dataframe\">\n",
       "  <thead>\n",
       "    <tr style=\"text-align: right;\">\n",
       "      <th></th>\n",
       "      <th>Avg Fare</th>\n",
       "      <th>Total Rides</th>\n",
       "      <th>Total Drivers</th>\n",
       "      <th>City Type Int</th>\n",
       "      <th>City Type</th>\n",
       "    </tr>\n",
       "    <tr>\n",
       "      <th>city</th>\n",
       "      <th></th>\n",
       "      <th></th>\n",
       "      <th></th>\n",
       "      <th></th>\n",
       "      <th></th>\n",
       "    </tr>\n",
       "  </thead>\n",
       "  <tbody>\n",
       "    <tr>\n",
       "      <th>Alvarezhaven</th>\n",
       "      <td>23.93</td>\n",
       "      <td>31</td>\n",
       "      <td>21</td>\n",
       "      <td>1</td>\n",
       "      <td>Urban</td>\n",
       "    </tr>\n",
       "    <tr>\n",
       "      <th>Alyssaberg</th>\n",
       "      <td>20.61</td>\n",
       "      <td>26</td>\n",
       "      <td>67</td>\n",
       "      <td>1</td>\n",
       "      <td>Urban</td>\n",
       "    </tr>\n",
       "    <tr>\n",
       "      <th>Anitamouth</th>\n",
       "      <td>37.32</td>\n",
       "      <td>9</td>\n",
       "      <td>16</td>\n",
       "      <td>2</td>\n",
       "      <td>Suburban</td>\n",
       "    </tr>\n",
       "    <tr>\n",
       "      <th>Antoniomouth</th>\n",
       "      <td>23.62</td>\n",
       "      <td>22</td>\n",
       "      <td>21</td>\n",
       "      <td>1</td>\n",
       "      <td>Urban</td>\n",
       "    </tr>\n",
       "    <tr>\n",
       "      <th>Aprilchester</th>\n",
       "      <td>21.98</td>\n",
       "      <td>19</td>\n",
       "      <td>49</td>\n",
       "      <td>1</td>\n",
       "      <td>Urban</td>\n",
       "    </tr>\n",
       "  </tbody>\n",
       "</table>\n",
       "</div>"
      ],
      "text/plain": [
       "              Avg Fare  Total Rides  Total Drivers  City Type Int City Type\n",
       "city                                                                       \n",
       "Alvarezhaven     23.93           31             21              1     Urban\n",
       "Alyssaberg       20.61           26             67              1     Urban\n",
       "Anitamouth       37.32            9             16              2  Suburban\n",
       "Antoniomouth     23.62           22             21              1     Urban\n",
       "Aprilchester     21.98           19             49              1     Urban"
      ]
     },
     "execution_count": 153,
     "metadata": {},
     "output_type": "execute_result"
    }
   ],
   "source": [
    "def type_str(type_n):\n",
    "    if type_n==1:\n",
    "        return 'Urban'\n",
    "    elif type_n==2:\n",
    "        return 'Suburban'\n",
    "    else:\n",
    "        return 'Rural'\n",
    "\n",
    "city_groups_df = pd.DataFrame(ride_data.groupby(['city'])['fare'].mean())\n",
    "city_groups_df['Total Rides'] = ride_data.groupby(['city'])['fare'].count()\n",
    "city_groups_df['Total Drivers'] = ride_data.groupby(['city'])['driver_count'].mean()\n",
    "city_groups_df['City Type Int'] = ride_data.groupby(['city'])['type_int'].mean()\n",
    "city_groups_df['City Type'] = city_groups_df['City Type Int'].apply(type_str)\n",
    "\n",
    "\n",
    "\n",
    "city_groups_df = city_groups_df.rename(columns={\"fare\":\"Avg Fare\"})\n",
    "city_groups_df = city_groups_df.round(2)\n",
    "city_groups_df.head()"
   ]
  },
  {
   "cell_type": "code",
   "execution_count": 212,
   "metadata": {},
   "outputs": [
    {
     "data": {
      "text/html": [
       "<div>\n",
       "<style scoped>\n",
       "    .dataframe tbody tr th:only-of-type {\n",
       "        vertical-align: middle;\n",
       "    }\n",
       "\n",
       "    .dataframe tbody tr th {\n",
       "        vertical-align: top;\n",
       "    }\n",
       "\n",
       "    .dataframe thead th {\n",
       "        text-align: right;\n",
       "    }\n",
       "</style>\n",
       "<table border=\"1\" class=\"dataframe\">\n",
       "  <thead>\n",
       "    <tr style=\"text-align: right;\">\n",
       "      <th></th>\n",
       "      <th>Avg Fare</th>\n",
       "      <th>Total Rides</th>\n",
       "      <th>Total Drivers</th>\n",
       "      <th>City Type Int</th>\n",
       "      <th>City Type</th>\n",
       "      <th>City Color</th>\n",
       "    </tr>\n",
       "    <tr>\n",
       "      <th>city</th>\n",
       "      <th></th>\n",
       "      <th></th>\n",
       "      <th></th>\n",
       "      <th></th>\n",
       "      <th></th>\n",
       "      <th></th>\n",
       "    </tr>\n",
       "  </thead>\n",
       "  <tbody>\n",
       "    <tr>\n",
       "      <th>Alvarezhaven</th>\n",
       "      <td>23.93</td>\n",
       "      <td>31</td>\n",
       "      <td>21</td>\n",
       "      <td>1</td>\n",
       "      <td>Urban</td>\n",
       "      <td>#ff7f50</td>\n",
       "    </tr>\n",
       "    <tr>\n",
       "      <th>Alyssaberg</th>\n",
       "      <td>20.61</td>\n",
       "      <td>26</td>\n",
       "      <td>67</td>\n",
       "      <td>1</td>\n",
       "      <td>Urban</td>\n",
       "      <td>#ff7f50</td>\n",
       "    </tr>\n",
       "    <tr>\n",
       "      <th>Anitamouth</th>\n",
       "      <td>37.32</td>\n",
       "      <td>9</td>\n",
       "      <td>16</td>\n",
       "      <td>2</td>\n",
       "      <td>Suburban</td>\n",
       "      <td>#87CEFA</td>\n",
       "    </tr>\n",
       "    <tr>\n",
       "      <th>Antoniomouth</th>\n",
       "      <td>23.62</td>\n",
       "      <td>22</td>\n",
       "      <td>21</td>\n",
       "      <td>1</td>\n",
       "      <td>Urban</td>\n",
       "      <td>#ff7f50</td>\n",
       "    </tr>\n",
       "    <tr>\n",
       "      <th>Aprilchester</th>\n",
       "      <td>21.98</td>\n",
       "      <td>19</td>\n",
       "      <td>49</td>\n",
       "      <td>1</td>\n",
       "      <td>Urban</td>\n",
       "      <td>#ff7f50</td>\n",
       "    </tr>\n",
       "    <tr>\n",
       "      <th>Arnoldview</th>\n",
       "      <td>25.11</td>\n",
       "      <td>31</td>\n",
       "      <td>41</td>\n",
       "      <td>1</td>\n",
       "      <td>Urban</td>\n",
       "      <td>#ff7f50</td>\n",
       "    </tr>\n",
       "    <tr>\n",
       "      <th>Campbellport</th>\n",
       "      <td>33.71</td>\n",
       "      <td>15</td>\n",
       "      <td>26</td>\n",
       "      <td>2</td>\n",
       "      <td>Suburban</td>\n",
       "      <td>#87CEFA</td>\n",
       "    </tr>\n",
       "    <tr>\n",
       "      <th>Carrollbury</th>\n",
       "      <td>36.61</td>\n",
       "      <td>10</td>\n",
       "      <td>4</td>\n",
       "      <td>2</td>\n",
       "      <td>Suburban</td>\n",
       "      <td>#87CEFA</td>\n",
       "    </tr>\n",
       "    <tr>\n",
       "      <th>Carrollfort</th>\n",
       "      <td>25.40</td>\n",
       "      <td>29</td>\n",
       "      <td>55</td>\n",
       "      <td>1</td>\n",
       "      <td>Urban</td>\n",
       "      <td>#ff7f50</td>\n",
       "    </tr>\n",
       "    <tr>\n",
       "      <th>Clarkstad</th>\n",
       "      <td>31.05</td>\n",
       "      <td>12</td>\n",
       "      <td>21</td>\n",
       "      <td>2</td>\n",
       "      <td>Suburban</td>\n",
       "      <td>#87CEFA</td>\n",
       "    </tr>\n",
       "    <tr>\n",
       "      <th>Conwaymouth</th>\n",
       "      <td>34.59</td>\n",
       "      <td>11</td>\n",
       "      <td>18</td>\n",
       "      <td>2</td>\n",
       "      <td>Suburban</td>\n",
       "      <td>#87CEFA</td>\n",
       "    </tr>\n",
       "    <tr>\n",
       "      <th>Davidtown</th>\n",
       "      <td>22.98</td>\n",
       "      <td>21</td>\n",
       "      <td>73</td>\n",
       "      <td>1</td>\n",
       "      <td>Urban</td>\n",
       "      <td>#ff7f50</td>\n",
       "    </tr>\n",
       "    <tr>\n",
       "      <th>Davistown</th>\n",
       "      <td>21.50</td>\n",
       "      <td>25</td>\n",
       "      <td>25</td>\n",
       "      <td>1</td>\n",
       "      <td>Urban</td>\n",
       "      <td>#ff7f50</td>\n",
       "    </tr>\n",
       "    <tr>\n",
       "      <th>East Cherylfurt</th>\n",
       "      <td>31.42</td>\n",
       "      <td>13</td>\n",
       "      <td>9</td>\n",
       "      <td>2</td>\n",
       "      <td>Suburban</td>\n",
       "      <td>#87CEFA</td>\n",
       "    </tr>\n",
       "    <tr>\n",
       "      <th>East Douglas</th>\n",
       "      <td>26.17</td>\n",
       "      <td>22</td>\n",
       "      <td>12</td>\n",
       "      <td>1</td>\n",
       "      <td>Urban</td>\n",
       "      <td>#ff7f50</td>\n",
       "    </tr>\n",
       "    <tr>\n",
       "      <th>East Erin</th>\n",
       "      <td>24.48</td>\n",
       "      <td>28</td>\n",
       "      <td>43</td>\n",
       "      <td>1</td>\n",
       "      <td>Urban</td>\n",
       "      <td>#ff7f50</td>\n",
       "    </tr>\n",
       "    <tr>\n",
       "      <th>East Jenniferchester</th>\n",
       "      <td>32.60</td>\n",
       "      <td>19</td>\n",
       "      <td>22</td>\n",
       "      <td>2</td>\n",
       "      <td>Suburban</td>\n",
       "      <td>#87CEFA</td>\n",
       "    </tr>\n",
       "    <tr>\n",
       "      <th>East Leslie</th>\n",
       "      <td>33.66</td>\n",
       "      <td>11</td>\n",
       "      <td>9</td>\n",
       "      <td>3</td>\n",
       "      <td>Rural</td>\n",
       "      <td>#ffd700</td>\n",
       "    </tr>\n",
       "    <tr>\n",
       "      <th>East Stephen</th>\n",
       "      <td>39.05</td>\n",
       "      <td>10</td>\n",
       "      <td>6</td>\n",
       "      <td>3</td>\n",
       "      <td>Rural</td>\n",
       "      <td>#ffd700</td>\n",
       "    </tr>\n",
       "    <tr>\n",
       "      <th>East Troybury</th>\n",
       "      <td>33.24</td>\n",
       "      <td>7</td>\n",
       "      <td>3</td>\n",
       "      <td>3</td>\n",
       "      <td>Rural</td>\n",
       "      <td>#ffd700</td>\n",
       "    </tr>\n",
       "  </tbody>\n",
       "</table>\n",
       "</div>"
      ],
      "text/plain": [
       "                      Avg Fare  Total Rides  Total Drivers  City Type Int  \\\n",
       "city                                                                        \n",
       "Alvarezhaven             23.93           31             21              1   \n",
       "Alyssaberg               20.61           26             67              1   \n",
       "Anitamouth               37.32            9             16              2   \n",
       "Antoniomouth             23.62           22             21              1   \n",
       "Aprilchester             21.98           19             49              1   \n",
       "Arnoldview               25.11           31             41              1   \n",
       "Campbellport             33.71           15             26              2   \n",
       "Carrollbury              36.61           10              4              2   \n",
       "Carrollfort              25.40           29             55              1   \n",
       "Clarkstad                31.05           12             21              2   \n",
       "Conwaymouth              34.59           11             18              2   \n",
       "Davidtown                22.98           21             73              1   \n",
       "Davistown                21.50           25             25              1   \n",
       "East Cherylfurt          31.42           13              9              2   \n",
       "East Douglas             26.17           22             12              1   \n",
       "East Erin                24.48           28             43              1   \n",
       "East Jenniferchester     32.60           19             22              2   \n",
       "East Leslie              33.66           11              9              3   \n",
       "East Stephen             39.05           10              6              3   \n",
       "East Troybury            33.24            7              3              3   \n",
       "\n",
       "                     City Type City Color  \n",
       "city                                       \n",
       "Alvarezhaven             Urban    #ff7f50  \n",
       "Alyssaberg               Urban    #ff7f50  \n",
       "Anitamouth            Suburban    #87CEFA  \n",
       "Antoniomouth             Urban    #ff7f50  \n",
       "Aprilchester             Urban    #ff7f50  \n",
       "Arnoldview               Urban    #ff7f50  \n",
       "Campbellport          Suburban    #87CEFA  \n",
       "Carrollbury           Suburban    #87CEFA  \n",
       "Carrollfort              Urban    #ff7f50  \n",
       "Clarkstad             Suburban    #87CEFA  \n",
       "Conwaymouth           Suburban    #87CEFA  \n",
       "Davidtown                Urban    #ff7f50  \n",
       "Davistown                Urban    #ff7f50  \n",
       "East Cherylfurt       Suburban    #87CEFA  \n",
       "East Douglas             Urban    #ff7f50  \n",
       "East Erin                Urban    #ff7f50  \n",
       "East Jenniferchester  Suburban    #87CEFA  \n",
       "East Leslie              Rural    #ffd700  \n",
       "East Stephen             Rural    #ffd700  \n",
       "East Troybury            Rural    #ffd700  "
      ]
     },
     "execution_count": 212,
     "metadata": {},
     "output_type": "execute_result"
    }
   ],
   "source": [
    "def type_color(type_c):\n",
    "    if type_c==1:\n",
    "        return '#ff7f50'\n",
    "    elif type_c==2:\n",
    "        return '#87CEFA'\n",
    "    else:\n",
    "        return '#ffd700'\n",
    "    \n",
    "city_groups_df['City Color'] = city_groups_df['City Type Int'].apply(type_color)\n",
    "\n",
    "city_groups_df.head(20)"
   ]
  },
  {
   "cell_type": "markdown",
   "metadata": {},
   "source": [
    "average_fare = combined_data_df.groupby(['city'])['fare'].mean()\n",
    "total_rides = combined_data_df.groupby(['city'])['fare'].count()\n",
    "total_drivers = combined_data_df.groupby(['city'])['driver_count'].mean()\n",
    "city_type = combined_data_df.groupby(['city'])['type']\n",
    "\n",
    "summary_table = pd.DataFrame({\"Avg Fare\":average_fare,\n",
    "                                 \"Total Rides\":total_rides,\n",
    "                                 \"Total Drivers\":total_drivers,\n",
    "                                 \"City Type\":city_type})\n",
    "summary_table.head()"
   ]
  },
  {
   "cell_type": "code",
   "execution_count": 155,
   "metadata": {
    "collapsed": true
   },
   "outputs": [],
   "source": [
    "x_values = city_groups_df['Total Rides']\n",
    "y_values = city_groups_df['Avg Fare']\n",
    "z_values = city_groups_df['Total Drivers']\n",
    "palette = city_groups_df['City Color']\n",
    "legend = city_groups_df['City Type']\n",
    "\n",
    "#colors = {\"Light Coral\":\"#9b59b6\", \"Light Sky Blue\":\"#3498db\", \"Gold\":\"#95a5a6\"}"
   ]
  },
  {
   "cell_type": "markdown",
   "metadata": {},
   "source": [
    "## Bubble Plot of Ride Sharing Data"
   ]
  },
  {
   "cell_type": "code",
   "execution_count": 211,
   "metadata": {},
   "outputs": [
    {
     "data": {
      "image/png": "[encoded data removed]",
      "text/plain": [
       "<matplotlib.figure.Figure at 0x1a14e261d0>"
      ]
     },
     "metadata": {},
     "output_type": "display_data"
    }
   ],
   "source": [
    "plt.scatter(x_values, y_values, s=z_values, c=palette, edgecolors=\"black\",alpha=0.5)\n",
    "plt.title(\"Pyber Ride Sharing Data (2016)\")\n",
    "plt.xlabel(\"Total Number of Rides (Per City)\")\n",
    "plt.ylabel(\"Average Fare ($)\")\n",
    "plt.legend(legend,loc='upper right')\n",
    "plt.grid(color='c', linestyle='-', linewidth=2)\n",
    "plt.show()"
   ]
  },
  {
   "cell_type": "markdown",
   "metadata": {},
   "source": [
    "## Total Fares by City Type"
   ]
  },
  {
   "cell_type": "code",
   "execution_count": 213,
   "metadata": {},
   "outputs": [
    {
     "data": {
      "image/png": "[encoded data removed]",
      "text/plain": [
       "<matplotlib.figure.Figure at 0x1a14952dd8>"
      ]
     },
     "metadata": {},
     "output_type": "display_data"
    }
   ],
   "source": [
    "fare_sum = pd.DataFrame(combined_final.groupby(['type'])['fare'].sum())\n",
    "fare_sum_chart = fare_sum['fare'].plot(kind='pie', autopct='%.1f', figsize=(9,9))\n",
    "fare_sum_chart.set_xlabel(\"% of Total Fares by c\")\n",
    "fare_sum_chart.set_ylabel(\"Number of Cars\")\n",
    "plt.show()"
   ]
  },
  {
   "cell_type": "markdown",
   "metadata": {},
   "source": [
    "## Total Rides by City Type"
   ]
  },
  {
   "cell_type": "code",
   "execution_count": 214,
   "metadata": {},
   "outputs": [
    {
     "data": {
      "image/png": "[encoded data removed]",
      "text/plain": [
       "<matplotlib.figure.Figure at 0x1a14e45da0>"
      ]
     },
     "metadata": {},
     "output_type": "display_data"
    }
   ],
   "source": [
    "ride_count = pd.DataFrame(combined_final.groupby(['type'])['ride_id'].count())\n",
    "ride_count_chart = ride_count['ride_id'].plot(kind='pie', autopct='%.1f', figsize=(9,9))\n",
    "fare_sum_chart.set_xlabel(\"% of Total Rides by c\")\n",
    "fare_sum_chart.set_ylabel(\"Number of Rides\")\n",
    "plt.show()"
   ]
  },
  {
   "cell_type": "markdown",
   "metadata": {},
   "source": [
    "## Total Drivers by City Type"
   ]
  },
  {
   "cell_type": "code",
   "execution_count": 215,
   "metadata": {},
   "outputs": [
    {
     "data": {
      "image/png": "[encoded data removed]",
      "text/plain": [
       "<matplotlib.figure.Figure at 0x1a14580f28>"
      ]
     },
     "metadata": {},
     "output_type": "display_data"
    }
   ],
   "source": [
    "driver_counts = pd.DataFrame(city_data_df.groupby(['type'])['driver_count'].sum())\n",
    "driver_count_chart = driver_counts['driver_count'].plot(kind='pie', autopct='%.1f', figsize=(9,9))\n",
    "fare_sum_chart.set_xlabel(\"% of Total Rides by c\")\n",
    "fare_sum_chart.set_ylabel(\"Number of Rides\")\n",
    "plt.show()\n"
   ]
  },
  {
   "cell_type": "code",
   "execution_count": null,
   "metadata": {
    "collapsed": true
   },
   "outputs": [],
   "source": []
  }
 ],
 "metadata": {
  "kernelspec": {
   "display_name": "Python [conda env:PythonData]",
   "language": "python",
   "name": "conda-env-PythonData-py"
  },
  "language_info": {
   "codemirror_mode": {
    "name": "ipython",
    "version": 3
   },
   "file_extension": ".py",
   "mimetype": "text/x-python",
   "name": "python",
   "nbconvert_exporter": "python",
   "pygments_lexer": "ipython3",
   "version": "3.6.3"
  }
 },
 "nbformat": 4,
 "nbformat_minor": 2
}
